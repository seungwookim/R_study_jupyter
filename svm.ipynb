{
 "cells": [
  {
   "cell_type": "markdown",
   "metadata": {},
   "source": [
    "# SVM \n",
    "비선형 최적화 기법으로 Vapnik 에 제한한 학습이론에 기반을 둔 분류방법 <br>\n",
    "일반적인 통계적 학습방법에서의 경험적 리스크 최소화와는 다른 구조적 리스트 최소화를 통해 오류를 최소화 시키는 방법 <br>\n",
    "일반적 통계쩍 방법을 통한 합습에 실제 정확률은 학습에 이용된 데이터에 의해 제약을 받게 된다. <br>\n",
    "학습자료로 주어진 n 차원에 벤터 공간에서 분류 공간간에 모든 점 사이의 거리를 최대화하도록 만들어 하나의 평명을 구해내는 것을 목표로 한다. "
   ]
  },
  {
   "cell_type": "markdown",
   "metadata": {},
   "source": [
    "# 데이터 로딩 (Iris)"
   ]
  },
  {
   "cell_type": "code",
   "execution_count": 6,
   "metadata": {
    "collapsed": false
   },
   "outputs": [
    {
     "name": "stdout",
     "output_type": "stream",
     "text": [
      "     ID Sepal_Length Sepal_Width Petal_Length Petal_Width    Species\n",
      "1     1          5.1         3.5          1.4         0.2     setosa\n",
      "2     2          4.9         3.0          1.4         0.2     setosa\n",
      "3     3          4.7         3.2          1.3         0.2     setosa\n",
      "4     4          4.6         3.1          1.5         0.2     setosa\n",
      "5     5          5.0         3.6          1.4         0.2     setosa\n",
      "6     6          5.4         3.9          1.7         0.4     setosa\n",
      "7     7          4.6         3.4          1.4         0.3     setosa\n",
      "8     8          5.0         3.4          1.5         0.2     setosa\n",
      "9     9          4.4         2.9          1.4         0.2     setosa\n",
      "10   10          4.9         3.1          1.5         0.1     setosa\n",
      "11   11          5.4         3.7          1.5         0.2     setosa\n",
      "12   12          4.8         3.4          1.6         0.2     setosa\n",
      "13   13          4.8         3.0          1.4         0.1     setosa\n",
      "14   14          4.3         3.0          1.1         0.1     setosa\n",
      "15   15          5.8         4.0          1.2         0.2     setosa\n",
      "16   16          5.7         4.4          1.5         0.4     setosa\n",
      "17   17          5.4         3.9          1.3         0.4     setosa\n",
      "18   18          5.1         3.5          1.4         0.3     setosa\n",
      "19   19          5.7         3.8          1.7         0.3     setosa\n",
      "20   20          5.1         3.8          1.5         0.3     setosa\n",
      "21   21          5.4         3.4          1.7         0.2     setosa\n",
      "22   22          5.1         3.7          1.5         0.4     setosa\n",
      "23   23          4.6         3.6          1.0         0.2     setosa\n",
      "24   24          5.1         3.3          1.7         0.5     setosa\n",
      "25   25          4.8         3.4          1.9         0.2     setosa\n",
      "26   26          5.0         3.0          1.6         0.2     setosa\n",
      "27   27          5.0         3.4          1.6         0.4     setosa\n",
      "28   28          5.2         3.5          1.5         0.2     setosa\n",
      "29   29          5.2         3.4          1.4         0.2     setosa\n",
      "30   30          4.7         3.2          1.6         0.2     setosa\n",
      "31   31          4.8         3.1          1.6         0.2     setosa\n",
      "32   32          5.4         3.4          1.5         0.4     setosa\n",
      "33   33          5.2         4.1          1.5         0.1     setosa\n",
      "34   34          5.5         4.2          1.4         0.2     setosa\n",
      "35   35          4.9         3.1          1.5         0.2     setosa\n",
      "36   36          5.0         3.2          1.2         0.2     setosa\n",
      "37   37          5.5         3.5          1.3         0.2     setosa\n",
      "38   38          4.9         3.6          1.4         0.1     setosa\n",
      "39   39          4.4         3.0          1.3         0.2     setosa\n",
      "40   40          5.1         3.4          1.5         0.2     setosa\n",
      "41   41          5.0         3.5          1.3         0.3     setosa\n",
      "42   42          4.5         2.3          1.3         0.3     setosa\n",
      "43   43          4.4         3.2          1.3         0.2     setosa\n",
      "44   44          5.0         3.5          1.6         0.6     setosa\n",
      "45   45          5.1         3.8          1.9         0.4     setosa\n",
      "46   46          4.8         3.0          1.4         0.3     setosa\n",
      "47   47          5.1         3.8          1.6         0.2     setosa\n",
      "48   48          4.6         3.2          1.4         0.2     setosa\n",
      "49   49          5.3         3.7          1.5         0.2     setosa\n",
      "50   50          5.0         3.3          1.4         0.2     setosa\n",
      "51   51          7.0         3.2          4.7         1.4 versicolor\n",
      "52   52          6.4         3.2          4.5         1.5 versicolor\n",
      "53   53          6.9         3.1          4.9         1.5 versicolor\n",
      "54   54          5.5         2.3          4.0         1.3 versicolor\n",
      "55   55          6.5         2.8          4.6         1.5 versicolor\n",
      "56   56          5.7         2.8          4.5         1.3 versicolor\n",
      "57   57          6.3         3.3          4.7         1.6 versicolor\n",
      "58   58          4.9         2.4          3.3         1.0 versicolor\n",
      "59   59          6.6         2.9          4.6         1.3 versicolor\n",
      "60   60          5.2         2.7          3.9         1.4 versicolor\n",
      "61   61          5.0         2.0          3.5         1.0 versicolor\n",
      "62   62          5.9         3.0          4.2         1.5 versicolor\n",
      "63   63          6.0         2.2          4.0         1.0 versicolor\n",
      "64   64          6.1         2.9          4.7         1.4 versicolor\n",
      "65   65          5.6         2.9          3.6         1.3 versicolor\n",
      "66   66          6.7         3.1          4.4         1.4 versicolor\n",
      "67   67          5.6         3.0          4.5         1.5 versicolor\n",
      "68   68          5.8         2.7          4.1         1.0 versicolor\n",
      "69   69          6.2         2.2          4.5         1.5 versicolor\n",
      "70   70          5.6         2.5          3.9         1.1 versicolor\n",
      "71   71          5.9         3.2          4.8         1.8 versicolor\n",
      "72   72          6.1         2.8          4.0         1.3 versicolor\n",
      "73   73          6.3         2.5          4.9         1.5 versicolor\n",
      "74   74          6.1         2.8          4.7         1.2 versicolor\n",
      "75   75          6.4         2.9          4.3         1.3 versicolor\n",
      "76   76          6.6         3.0          4.4         1.4 versicolor\n",
      "77   77          6.8         2.8          4.8         1.4 versicolor\n",
      "78   78          6.7         3.0          5.0         1.7 versicolor\n",
      "79   79          6.0         2.9          4.5         1.5 versicolor\n",
      "80   80          5.7         2.6          3.5         1.0 versicolor\n",
      "81   81          5.5         2.4          3.8         1.1 versicolor\n",
      "82   82          5.5         2.4          3.7         1.0 versicolor\n",
      "83   83          5.8         2.7          3.9         1.2 versicolor\n",
      "84   84          6.0         2.7          5.1         1.6 versicolor\n",
      "85   85          5.4         3.0          4.5         1.5 versicolor\n",
      "86   86          6.0         3.4          4.5         1.6 versicolor\n",
      "87   87          6.7         3.1          4.7         1.5 versicolor\n",
      "88   88          6.3         2.3          4.4         1.3 versicolor\n",
      "89   89          5.6         3.0          4.1         1.3 versicolor\n",
      "90   90          5.5         2.5          4.0         1.3 versicolor\n",
      "91   91          5.5         2.6          4.4         1.2 versicolor\n",
      "92   92          6.1         3.0          4.6         1.4 versicolor\n",
      "93   93          5.8         2.6          4.0         1.2 versicolor\n",
      "94   94          5.0         2.3          3.3         1.0 versicolor\n",
      "95   95          5.6         2.7          4.2         1.3 versicolor\n",
      "96   96          5.7         3.0          4.2         1.2 versicolor\n",
      "97   97          5.7         2.9          4.2         1.3 versicolor\n",
      "98   98          6.2         2.9          4.3         1.3 versicolor\n",
      "99   99          5.1         2.5          3.0         1.1 versicolor\n",
      "100 100          5.7         2.8          4.1         1.3 versicolor\n",
      "101 101          6.3         3.3          6.0         2.5  virginica\n",
      "102 102          5.8         2.7          5.1         1.9  virginica\n",
      "103 103          7.1         3.0          5.9         2.1  virginica\n",
      "104 104          6.3         2.9          5.6         1.8  virginica\n",
      "105 105          6.5         3.0          5.8         2.2  virginica\n",
      "106 106          7.6         3.0          6.6         2.1  virginica\n",
      "107 107          4.9         2.5          4.5         1.7  virginica\n",
      "108 108          7.3         2.9          6.3         1.8  virginica\n",
      "109 109          6.7         2.5          5.8         1.8  virginica\n",
      "110 110          7.2         3.6          6.1         2.5  virginica\n",
      "111 111          6.5         3.2          5.1         2.0  virginica\n",
      "112 112          6.4         2.7          5.3         1.9  virginica\n",
      "113 113          6.8         3.0          5.5         2.1  virginica\n",
      "114 114          5.7         2.5          5.0         2.0  virginica\n",
      "115 115          5.8         2.8          5.1         2.4  virginica\n",
      "116 116          6.4         3.2          5.3         2.3  virginica\n",
      "117 117          6.5         3.0          5.5         1.8  virginica\n",
      "118 118          7.7         3.8          6.7         2.2  virginica\n",
      "119 119          7.7         2.6          6.9         2.3  virginica\n",
      "120 120          6.0         2.2          5.0         1.5  virginica\n",
      "121 121          6.9         3.2          5.7         2.3  virginica\n",
      "122 122          5.6         2.8          4.9         2.0  virginica\n",
      "123 123          7.7         2.8          6.7         2.0  virginica\n",
      "124 124          6.3         2.7          4.9         1.8  virginica\n",
      "125 125          6.7         3.3          5.7         2.1  virginica\n",
      "126 126          7.2         3.2          6.0         1.8  virginica\n",
      "127 127          6.2         2.8          4.8         1.8  virginica\n",
      "128 128          6.1         3.0          4.9         1.8  virginica\n",
      "129 129          6.4         2.8          5.6         2.1  virginica\n",
      "130 130          7.2         3.0          5.8         1.6  virginica\n",
      "131 131          7.4         2.8          6.1         1.9  virginica\n",
      "132 132          7.9         3.8          6.4         2.0  virginica\n",
      "133 133          6.4         2.8          5.6         2.2  virginica\n",
      "134 134          6.3         2.8          5.1         1.5  virginica\n",
      "135 135          6.1         2.6          5.6         1.4  virginica\n",
      "136 136          7.7         3.0          6.1         2.3  virginica\n",
      "137 137          6.3         3.4          5.6         2.4  virginica\n",
      "138 138          6.4         3.1          5.5         1.8  virginica\n",
      "139 139          6.0         3.0          4.8         1.8  virginica\n",
      "140 140          6.9         3.1          5.4         2.1  virginica\n",
      "141 141          6.7         3.1          5.6         2.4  virginica\n",
      "142 142          6.9         3.1          5.1         2.3  virginica\n",
      "143 143          5.8         2.7          5.1         1.9  virginica\n",
      "144 144          6.8         3.2          5.9         2.3  virginica\n",
      "145 145          6.7         3.3          5.7         2.5  virginica\n",
      "146 146          6.7         3.0          5.2         2.3  virginica\n",
      "147 147          6.3         2.5          5.0         1.9  virginica\n",
      "148 148          6.5         3.0          5.2         2.0  virginica\n",
      "149 149          6.2         3.4          5.4         2.3  virginica\n",
      "150 150          5.9         3.0          5.1         1.8  virginica\n"
     ]
    }
   ],
   "source": [
    "setwd(\"/home/dev/R_study_jupyter/data\")\n",
    "iris = read.csv(\"iris.csv\")\n",
    "print(iris)"
   ]
  },
  {
   "cell_type": "markdown",
   "metadata": {},
   "source": [
    "# 간단하게 SVM 모델 훈련 및 예측\n",
    "SVM 을 사용하여 모델을 만들고 예측을 진행하여 보자 "
   ]
  },
  {
   "cell_type": "code",
   "execution_count": 10,
   "metadata": {
    "collapsed": false
   },
   "outputs": [
    {
     "data": {
      "text/plain": [
       "Support Vector Machine object of class \"ksvm\" \n",
       "\n",
       "SV type: C-svc  (classification) \n",
       " parameter : cost C = 1 \n",
       "\n",
       "Gaussian Radial Basis kernel function. \n",
       " Hyperparameter : sigma =  0.781477816576304 \n",
       "\n",
       "Number of Support Vectors : 59 \n",
       "\n",
       "Objective Function Value : -4.4757 -4.9713 -20.3593 \n",
       "Training error : 0.026667 "
      ]
     },
     "metadata": {},
     "output_type": "display_data"
    },
    {
     "data": {
      "text/html": [
       "<table>\n",
       "<thead><tr><th scope=col>Sepal_Length</th><th scope=col>Sepal_Width</th><th scope=col>Petal_Length</th><th scope=col>Petal_Width</th></tr></thead>\n",
       "<tbody>\n",
       "\t<tr><td>5  </td><td>3  </td><td>0.1</td><td>1.3</td></tr>\n",
       "</tbody>\n",
       "</table>\n"
      ],
      "text/latex": [
       "\\begin{tabular}{r|llll}\n",
       " Sepal\\_Length & Sepal\\_Width & Petal\\_Length & Petal\\_Width\\\\\n",
       "\\hline\n",
       "\t 5   & 3   & 0.1 & 1.3\\\\\n",
       "\\end{tabular}\n"
      ],
      "text/markdown": [
       "\n",
       "Sepal_Length | Sepal_Width | Petal_Length | Petal_Width | \n",
       "|---|\n",
       "| 5   | 3   | 0.1 | 1.3 | \n",
       "\n",
       "\n"
      ],
      "text/plain": [
       "  Sepal_Length Sepal_Width Petal_Length Petal_Width\n",
       "1 5            3           0.1          1.3        "
      ]
     },
     "metadata": {},
     "output_type": "display_data"
    },
    {
     "data": {
      "text/html": [
       "virginica"
      ],
      "text/latex": [
       "virginica"
      ],
      "text/markdown": [
       "virginica"
      ],
      "text/plain": [
       "[1] virginica\n",
       "Levels: setosa versicolor virginica"
      ]
     },
     "metadata": {},
     "output_type": "display_data"
    }
   ],
   "source": [
    "#install.packages(\"kernlab\")\n",
    "library(kernlab)\n",
    "(m<-ksvm(Species~Sepal_Length  + Sepal_Width + Petal_Length + Petal_Width , data=iris))\n",
    "# 테스트 데이터 생성 \n",
    "Sepal_Length = 5.0\n",
    "Sepal_Width = 3.0\n",
    "Petal_Length = 0.1\n",
    "Petal_Width = 1.3\n",
    "(test<-data.frame(Sepal_Length,Sepal_Width,Petal_Length,Petal_Width))\n",
    "# 만들어진 모델로 예측 (virginica가 나왔네?)\n",
    "head(predict(m, newdata=test))"
   ]
  },
  {
   "cell_type": "markdown",
   "metadata": {},
   "source": [
    "# 단항, 다항 커널\n",
    "단항 커널은 하나의 직선으로 그룹을 구분하는 것으로 어떻게 보면 lda 와 유사하다고도 할 수 있겠다. 다항 커널은 여러개의 직선으로 그룹을 구분하는 것으로 더 비선형적인 데이터를 구분을 잘 할 수 있게 된다. 하지만, 지나치게 구분할 경우 Overfitting 의 함정의 빠질 수 있으니 조심하여야 할 듯 함. "
   ]
  },
  {
   "cell_type": "code",
   "execution_count": 22,
   "metadata": {
    "collapsed": false
   },
   "outputs": [
    {
     "data": {
      "text/html": [
       "<table>\n",
       "<thead><tr><th scope=col>Sepal_Length</th><th scope=col>Sepal_Width</th><th scope=col>Petal_Length</th><th scope=col>Petal_Width</th></tr></thead>\n",
       "<tbody>\n",
       "\t<tr><td>5  </td><td>3  </td><td>0.1</td><td>1.3</td></tr>\n",
       "</tbody>\n",
       "</table>\n"
      ],
      "text/latex": [
       "\\begin{tabular}{r|llll}\n",
       " Sepal\\_Length & Sepal\\_Width & Petal\\_Length & Petal\\_Width\\\\\n",
       "\\hline\n",
       "\t 5   & 3   & 0.1 & 1.3\\\\\n",
       "\\end{tabular}\n"
      ],
      "text/markdown": [
       "\n",
       "Sepal_Length | Sepal_Width | Petal_Length | Petal_Width | \n",
       "|---|\n",
       "| 5   | 3   | 0.1 | 1.3 | \n",
       "\n",
       "\n"
      ],
      "text/plain": [
       "  Sepal_Length Sepal_Width Petal_Length Petal_Width\n",
       "1 5            3           0.1          1.3        "
      ]
     },
     "metadata": {},
     "output_type": "display_data"
    },
    {
     "name": "stdout",
     "output_type": "stream",
     "text": [
      " Setting default kernel parameters  \n"
     ]
    },
    {
     "data": {
      "text/html": [
       "setosa"
      ],
      "text/latex": [
       "setosa"
      ],
      "text/markdown": [
       "setosa"
      ],
      "text/plain": [
       "[1] setosa\n",
       "Levels: setosa versicolor virginica"
      ]
     },
     "metadata": {},
     "output_type": "display_data"
    },
    {
     "data": {
      "text/html": [
       "setosa"
      ],
      "text/latex": [
       "setosa"
      ],
      "text/markdown": [
       "setosa"
      ],
      "text/plain": [
       "[1] setosa\n",
       "Levels: setosa versicolor virginica"
      ]
     },
     "metadata": {},
     "output_type": "display_data"
    }
   ],
   "source": [
    "test\n",
    "m2 = ksvm(Species~Sepal_Length  + Sepal_Width + Petal_Length + Petal_Width, data=iris, kernel=\"vanilladot\")\n",
    "predict(m2, newdata=test)\n",
    "m3 = ksvm(Species~Sepal_Length  + Sepal_Width + Petal_Length + Petal_Width, data=iris, kernel=\"polydot\", kpar=list(degree=3))\n",
    "predict(m3, newdata=test)"
   ]
  },
  {
   "cell_type": "markdown",
   "metadata": {},
   "source": [
    "# 튜닝?\n",
    "음..."
   ]
  },
  {
   "cell_type": "code",
   "execution_count": 12,
   "metadata": {
    "collapsed": false
   },
   "outputs": [
    {
     "data": {
      "text/html": [
       "<dl>\n",
       "\t<dt>$names</dt>\n",
       "\t\t<dd><ol class=list-inline>\n",
       "\t<li>'best.parameters'</li>\n",
       "\t<li>'best.performance'</li>\n",
       "\t<li>'method'</li>\n",
       "\t<li>'nparcomb'</li>\n",
       "\t<li>'train.ind'</li>\n",
       "\t<li>'sampling'</li>\n",
       "\t<li>'performances'</li>\n",
       "\t<li>'best.model'</li>\n",
       "</ol>\n",
       "</dd>\n",
       "\t<dt>$class</dt>\n",
       "\t\t<dd>'tune'</dd>\n",
       "</dl>\n"
      ],
      "text/latex": [
       "\\begin{description}\n",
       "\\item[\\$names] \\begin{enumerate*}\n",
       "\\item 'best.parameters'\n",
       "\\item 'best.performance'\n",
       "\\item 'method'\n",
       "\\item 'nparcomb'\n",
       "\\item 'train.ind'\n",
       "\\item 'sampling'\n",
       "\\item 'performances'\n",
       "\\item 'best.model'\n",
       "\\end{enumerate*}\n",
       "\n",
       "\\item[\\$class] 'tune'\n",
       "\\end{description}\n"
      ],
      "text/markdown": [
       "$names\n",
       ":   1. 'best.parameters'\n",
       "2. 'best.performance'\n",
       "3. 'method'\n",
       "4. 'nparcomb'\n",
       "5. 'train.ind'\n",
       "6. 'sampling'\n",
       "7. 'performances'\n",
       "8. 'best.model'\n",
       "\n",
       "\n",
       "\n",
       "$class\n",
       ":   'tune'\n",
       "\n",
       "\n"
      ],
      "text/plain": [
       "$names\n",
       "[1] \"best.parameters\"  \"best.performance\" \"method\"           \"nparcomb\"        \n",
       "[5] \"train.ind\"        \"sampling\"         \"performances\"     \"best.model\"      \n",
       "\n",
       "$class\n",
       "[1] \"tune\"\n"
      ]
     },
     "metadata": {},
     "output_type": "display_data"
    },
    {
     "data": {
      "text/html": [
       "<table>\n",
       "<thead><tr><th scope=col>dummyparameter</th></tr></thead>\n",
       "<tbody>\n",
       "\t<tr><td>0</td></tr>\n",
       "</tbody>\n",
       "</table>\n"
      ],
      "text/latex": [
       "\\begin{tabular}{r|l}\n",
       " dummyparameter\\\\\n",
       "\\hline\n",
       "\t 0\\\\\n",
       "\\end{tabular}\n"
      ],
      "text/markdown": [
       "\n",
       "dummyparameter | \n",
       "|---|\n",
       "| 0 | \n",
       "\n",
       "\n"
      ],
      "text/plain": [
       "  dummyparameter\n",
       "1 0             "
      ]
     },
     "metadata": {},
     "output_type": "display_data"
    }
   ],
   "source": [
    "#install.packages(\"e1071\")\n",
    "library(e1071)\n",
    "result <- tune(svm, Species ~., data=iris, gamma=2^(-1:1), cost=2^(2:4))\n",
    "attributes(result)\n",
    "result$best.parameters[\"dummyparameter\"]"
   ]
  },
  {
   "cell_type": "markdown",
   "metadata": {},
   "source": [
    "# 앙상블 \n",
    "여러개의 모델을 복합적으로 사용하는 것인데 그 방법으로는 3가지 정도가 있을 수 있다. <br>\n",
    "Bagging.<br> Building multiple models (typically of the same type) from different subsamples of the training dataset.<br>\n",
    "Boosting.<br> Building multiple models (typically of the same type) each of which learns to fix the prediction errors of a prior model in the chain.<br>\n",
    "Stacking.<br> Building multiple models (typically of differing types) and supervisor model that learns how to best combine the predictions of the primary models.<br>"
   ]
  },
  {
   "cell_type": "code",
   "execution_count": null,
   "metadata": {
    "collapsed": true
   },
   "outputs": [],
   "source": []
  }
 ],
 "metadata": {
  "anaconda-cloud": {},
  "kernelspec": {
   "display_name": "R",
   "language": "R",
   "name": "ir"
  },
  "language_info": {
   "codemirror_mode": "r",
   "file_extension": ".r",
   "mimetype": "text/x-r-source",
   "name": "R",
   "pygments_lexer": "r",
   "version": "3.3.2"
  }
 },
 "nbformat": 4,
 "nbformat_minor": 1
}
